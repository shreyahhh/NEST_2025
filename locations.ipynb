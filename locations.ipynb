{
 "cells": [
  {
   "cell_type": "code",
   "execution_count": 2,
   "id": "6e46621c",
   "metadata": {},
   "outputs": [
    {
     "name": "stdout",
     "output_type": "stream",
     "text": [
      "Collecting fuzzywuzzy\n",
      "  Obtaining dependency information for fuzzywuzzy from https://files.pythonhosted.org/packages/43/ff/74f23998ad2f93b945c0309f825be92e04e0348e062026998b5eefef4c33/fuzzywuzzy-0.18.0-py2.py3-none-any.whl.metadata\n",
      "  Downloading fuzzywuzzy-0.18.0-py2.py3-none-any.whl.metadata (4.9 kB)\n",
      "Downloading fuzzywuzzy-0.18.0-py2.py3-none-any.whl (18 kB)\n",
      "Installing collected packages: fuzzywuzzy\n",
      "Successfully installed fuzzywuzzy-0.18.0\n"
     ]
    }
   ],
   "source": [
    "!pip3 install fuzzywuzzy"
   ]
  },
  {
   "cell_type": "code",
   "execution_count": 1,
   "id": "01c1ee62",
   "metadata": {},
   "outputs": [],
   "source": [
    "import pandas as pd\n",
    "df = pd.read_csv(\"processed_data.csv\")"
   ]
  },
  {
   "cell_type": "code",
   "execution_count": 3,
   "id": "71ee2d85",
   "metadata": {},
   "outputs": [
    {
     "name": "stderr",
     "output_type": "stream",
     "text": [
      "/Users/priteshpunj/anaconda3/lib/python3.11/site-packages/fuzzywuzzy/fuzz.py:11: UserWarning: Using slow pure-python SequenceMatcher. Install python-Levenshtein to remove this warning\n",
      "  warnings.warn('Using slow pure-python SequenceMatcher. Install python-Levenshtein to remove this warning')\n"
     ]
    }
   ],
   "source": [
    "import re\n",
    "from fuzzywuzzy import process\n",
    "from difflib import get_close_matches"
   ]
  },
  {
   "cell_type": "code",
   "execution_count": 4,
   "id": "990eca42",
   "metadata": {
    "scrolled": true
   },
   "outputs": [
    {
     "name": "stderr",
     "output_type": "stream",
     "text": [
      "WARNING:root:Applied processor reduces input query to empty string, all comparisons will have score 0. [Query: '']\n"
     ]
    },
    {
     "name": "stdout",
     "output_type": "stream",
     "text": [
      "Overall unique countries: {'Saudi Arabia', 'Philippines', 'State of Palestine', 'Czech Republic', 'Saint Lucia', 'Equatorial Guinea', 'Germany', 'China', 'South Africa', 'Switzerland', 'Malawi', 'Uruguay', 'Zambia', 'South Korea', 'Bulgaria', 'Armenia', 'United States', 'Romania', 'Bosnia and Herzegovina', 'Madagascar', 'Colombia', 'Guatemala', 'Monaco', 'United Kingdom', 'Israel', 'Australia', 'Albania', 'Mozambique', 'Sierra Leone', 'Luxembourg', 'San Marino', 'Belize', 'Lebanon', 'Algeria', 'Denmark', 'Canada', 'Tanzania', 'Zimbabwe', 'Lithuania', 'Gambia', 'North Korea', 'Slovenia', 'Indonesia', 'Micronesia', 'Bangladesh', 'Mauritius', \"Côte d'Ivoire\", 'Tunisia', 'New Zealand', 'Malaysia', 'Ireland', 'Peru', 'Bolivia', 'Serbia', 'Holy See', 'Estonia', 'Finland', 'Japan', 'Thailand', 'Georgia', 'Croatia', 'Turkey', 'Qatar', 'Brazil', 'United Arab Emirates', 'Mexico', 'Pakistan', 'Cambodia', 'Costa Rica', 'Guinea', 'Russia', 'Kuwait', 'India', 'Paraguay', 'Grenada', 'Uganda', 'France', 'Latvia', 'Poland', 'Slovakia', 'Dominican Republic', 'St. Vincent & Grenadines', 'Mongolia', 'Austria', 'Ethiopia', 'Senegal', 'Singapore', 'Solomon Islands', 'Botswana', 'Uzbekistan', 'Central African Republic', 'Sweden', 'Moldova', 'North Macedonia', 'Chile', 'Rwanda', 'Morocco', 'Argentina', 'Ukraine', 'Ecuador', 'Papua New Guinea', 'Jamaica', 'Egypt', 'Azerbaijan', 'Italy', 'Portugal', 'Jordan', 'Belarus', 'Kazakhstan', 'Cyprus', 'Honduras', 'Panama', 'Sao Tome & Principe', 'Nicaragua', 'El Salvador', 'Sri Lanka', 'Burkina Faso', 'Greece', 'Iceland', 'Ghana', 'Norway', 'Montenegro', 'Hungary', 'Trinidad and Tobago', 'Spain', 'Saint Kitts & Nevis', 'Belgium', 'Kenya', 'Netherlands', 'DR Congo', 'Nigeria', 'Vietnam'}\n",
      "Total number of unique countries: 132\n"
     ]
    }
   ],
   "source": [
    "# List of all countries\n",
    "country_list = [\n",
    "    \"India\", \"China\", \"United States\", \"Indonesia\", \"Pakistan\", \"Nigeria\", \"Brazil\",\n",
    "    \"Bangladesh\", \"Russia\", \"Ethiopia\", \"Mexico\", \"Japan\", \"Egypt\", \"Philippines\",\n",
    "    \"DR Congo\", \"Vietnam\", \"Iran\", \"Turkey\", \"Germany\", \"Thailand\", \"United Kingdom\",\n",
    "    \"Tanzania\", \"France\", \"South Africa\", \"Italy\", \"Kenya\", \"Myanmar\", \"Colombia\",\n",
    "    \"South Korea\", \"Sudan\", \"Uganda\", \"Spain\", \"Algeria\", \"Iraq\", \"Argentina\",\n",
    "    \"Afghanistan\", \"Yemen\", \"Canada\", \"Poland\", \"Morocco\", \"Angola\", \"Ukraine\",\n",
    "    \"Uzbekistan\", \"Malaysia\", \"Mozambique\", \"Ghana\", \"Peru\", \"Saudi Arabia\",\n",
    "    \"Madagascar\", \"Côte d'Ivoire\", \"Nepal\", \"Cameroon\", \"Venezuela\", \"Niger\",\n",
    "    \"Australia\", \"North Korea\", \"Syria\", \"Mali\", \"Burkina Faso\", \"Sri Lanka\",\n",
    "    \"Malawi\", \"Zambia\", \"Kazakhstan\", \"Chad\", \"Chile\", \"Romania\", \"Somalia\",\n",
    "    \"Senegal\", \"Guatemala\", \"Netherlands\", \"Ecuador\", \"Cambodia\", \"Zimbabwe\",\n",
    "    \"Guinea\", \"Benin\", \"Rwanda\", \"Burundi\", \"Bolivia\", \"Tunisia\", \"South Sudan\",\n",
    "    \"Haiti\", \"Belgium\", \"Jordan\", \"Dominican Republic\", \"United Arab Emirates\",\n",
    "    \"Cuba\", \"Honduras\", \"Czech Republic\", \"Sweden\", \"Tajikistan\", \"Papua New Guinea\",\n",
    "    \"Portugal\", \"Azerbaijan\", \"Greece\", \"Hungary\", \"Togo\", \"Israel\", \"Austria\",\n",
    "    \"Belarus\", \"Switzerland\", \"Sierra Leone\", \"Laos\", \"Turkmenistan\", \"Libya\",\n",
    "    \"Kyrgyzstan\", \"Paraguay\", \"Nicaragua\", \"Bulgaria\", \"Serbia\", \"El Salvador\",\n",
    "    \"Congo\", \"Denmark\", \"Singapore\", \"Lebanon\", \"Finland\", \"Liberia\", \"Norway\",\n",
    "    \"Slovakia\", \"State of Palestine\", \"Central African Republic\", \"Oman\",\n",
    "    \"Ireland\", \"New Zealand\", \"Mauritania\", \"Costa Rica\", \"Kuwait\", \"Panama\",\n",
    "    \"Croatia\", \"Georgia\", \"Eritrea\", \"Mongolia\", \"Uruguay\", \"Bosnia and Herzegovina\",\n",
    "    \"Qatar\", \"Moldova\", \"Namibia\", \"Armenia\", \"Lithuania\", \"Jamaica\", \"Albania\",\n",
    "    \"Gambia\", \"Gabon\", \"Botswana\", \"Lesotho\", \"Guinea-Bissau\", \"Slovenia\",\n",
    "    \"Equatorial Guinea\", \"Latvia\", \"North Macedonia\", \"Bahrain\",\n",
    "    \"Trinidad and Tobago\", \"Timor-Leste\", \"Estonia\", \"Cyprus\", \"Mauritius\",\n",
    "    \"Eswatini\", \"Djibouti\", \"Fiji\", \"Comoros\", \"Guyana\", \"Solomon Islands\",\n",
    "    \"Bhutan\", \"Luxembourg\", \"Montenegro\", \"Suriname\", \"Malta\", \"Maldives\",\n",
    "    \"Micronesia\", \"Cabo Verde\", \"Brunei\", \"Belize\", \"Bahamas\", \"Iceland\", \"Vanuatu\",\n",
    "    \"Barbados\", \"Sao Tome & Principe\", \"Samoa\", \"Saint Lucia\", \"Kiribati\",\n",
    "    \"Seychelles\", \"Grenada\", \"Tonga\", \"St. Vincent & Grenadines\", \"Antigua and Barbuda\",\n",
    "    \"Andorra\", \"Dominica\", \"Saint Kitts & Nevis\", \"Liechtenstein\", \"Monaco\",\n",
    "    \"Marshall Islands\", \"San Marino\", \"Palau\", \"Nauru\", \"Tuvalu\", \"Holy See\"\n",
    "]\n",
    "\n",
    "# Function to clean and extract countries\n",
    "def extract_countries_from_text(text, country_list):\n",
    "    found_countries = set()\n",
    "    if pd.notna(text):  # Check for valid text\n",
    "        locations = text.split(\"|\")\n",
    "        for location in locations:\n",
    "            # Attempt to find close matches with difflib\n",
    "            close_matches = get_close_matches(location, country_list, n=1, cutoff=0.8)\n",
    "            if close_matches:\n",
    "                found_countries.add(close_matches[0])\n",
    "            else:\n",
    "                # Use fuzzywuzzy as a fallback\n",
    "                match, score = process.extractOne(location, country_list)\n",
    "                if score > 80:  # Confidence threshold\n",
    "                    found_countries.add(match)\n",
    "    return found_countries\n",
    "\n",
    "# Load your CSV file\n",
    "df = pd.read_csv(\"processed_data.csv\")\n",
    "\n",
    "# Apply the extraction function to each row\n",
    "df[\"Unique_Countries\"] = df[\"Locations\"].apply(lambda x: extract_countries_from_text(x, country_list))\n",
    "\n",
    "# Get the count of unique countries per row\n",
    "df[\"Country_Count\"] = df[\"Unique_Countries\"].apply(len)\n",
    "\n",
    "# Extract overall unique countries\n",
    "overall_unique_countries = set()\n",
    "df[\"Unique_Countries\"].apply(overall_unique_countries.update)\n",
    "\n",
    "# Display results\n",
    "print(\"Overall unique countries:\", overall_unique_countries)\n",
    "print(\"Total number of unique countries:\", len(overall_unique_countries))"
   ]
  },
  {
   "cell_type": "code",
   "execution_count": 5,
   "id": "35f21a8d",
   "metadata": {},
   "outputs": [
    {
     "name": "stdout",
     "output_type": "stream",
     "text": [
      "Output saved to processed_with_countries.csv\n"
     ]
    }
   ],
   "source": [
    "output_file_path = \"processed_with_countries.csv\"\n",
    "df.to_csv(output_file_path, index=False)\n",
    "print(f\"Output saved to {output_file_path}\")"
   ]
  },
  {
   "cell_type": "code",
   "execution_count": null,
   "id": "a5f1787f",
   "metadata": {},
   "outputs": [],
   "source": []
  }
 ],
 "metadata": {
  "kernelspec": {
   "display_name": "Python 3 (ipykernel)",
   "language": "python",
   "name": "python3"
  },
  "language_info": {
   "codemirror_mode": {
    "name": "ipython",
    "version": 3
   },
   "file_extension": ".py",
   "mimetype": "text/x-python",
   "name": "python",
   "nbconvert_exporter": "python",
   "pygments_lexer": "ipython3",
   "version": "3.11.5"
  }
 },
 "nbformat": 4,
 "nbformat_minor": 5
}
