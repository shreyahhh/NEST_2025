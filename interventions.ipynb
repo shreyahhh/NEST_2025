{
 "cells": [
  {
   "cell_type": "code",
   "execution_count": 1,
   "id": "6fe841ba-ea46-4968-836c-7956a554cb2b",
   "metadata": {},
   "outputs": [],
   "source": [
    "import pandas as pd\n",
    "from sklearn.preprocessing import MultiLabelBinarizer"
   ]
  },
  {
   "cell_type": "code",
   "execution_count": 2,
   "id": "9f725956-1749-4433-85d6-66b1826c7f9e",
   "metadata": {},
   "outputs": [],
   "source": [
    "file_path = 'processed_data.csv'\n",
    "data = pd.read_csv(file_path)\n",
    "\n",
    "# Handle missing values in the Interventions column (if any)\n",
    "data['Interventions'].fillna('', inplace=True)"
   ]
  },
  {
   "cell_type": "code",
   "execution_count": 3,
   "id": "96cba148-ceb3-4476-b5d5-3cc657cf475d",
   "metadata": {},
   "outputs": [],
   "source": [
    "# Step 1: Extract intervention types from the Interventions column\n",
    "def extract_intervention_types(interventions):\n",
    "    # Extract unique intervention types (e.g., DRUG, BIOLOGICAL) from each row\n",
    "    return list(set([item.split(':')[0].strip() for item in interventions.split('|')]))\n",
    "\n",
    "# Apply the function to create a new column with intervention types\n",
    "data['Intervention_Types'] = data['Interventions'].apply(extract_intervention_types)"
   ]
  },
  {
   "cell_type": "code",
   "execution_count": 4,
   "id": "cb0593ac-8e2e-4032-bc2e-a8ed869fc756",
   "metadata": {},
   "outputs": [],
   "source": [
    "# Step 2: One-hot encode the intervention types using MultiLabelBinarizer\n",
    "mlb = MultiLabelBinarizer()\n",
    "intervention_encoded = mlb.fit_transform(data['Intervention_Types'])\n",
    "\n",
    "# Convert the encoded matrix into a DataFrame for readability\n",
    "intervention_df = pd.DataFrame(intervention_encoded, columns=mlb.classes_)"
   ]
  },
  {
   "cell_type": "code",
   "execution_count": 5,
   "id": "031ade21-79a9-489a-be07-80b0fc82ac46",
   "metadata": {},
   "outputs": [],
   "source": [
    "# Step 3: Merge the encoded interventions back into the main dataset\n",
    "data = pd.concat([data.reset_index(drop=True), intervention_df], axis=1)\n",
    "\n",
    "# Step 4: Drop the original Interventions and temporary columns\n",
    "data = data.drop(columns=['Interventions', 'Intervention_Types'])"
   ]
  },
  {
   "cell_type": "code",
   "execution_count": 13,
   "id": "824de74d-9ce2-4920-a0db-dd89ee8f258b",
   "metadata": {},
   "outputs": [
    {
     "name": "stdout",
     "output_type": "stream",
     "text": [
      "   BEHAVIORAL  BIOLOGICAL  COMBINATION_PRODUCT  DEVICE  DIAGNOSTIC_TEST  \\\n",
      "0           0           1                    0       0                0   \n",
      "1           0           0                    0       0                0   \n",
      "2           0           0                    0       0                0   \n",
      "3           0           1                    0       0                0   \n",
      "4           0           0                    0       0                0   \n",
      "\n",
      "   DIETARY_SUPPLEMENT  DRUG  GENETIC  OTHER  PROCEDURE  RADIATION  \n",
      "0                   0     0        0      0          0          0  \n",
      "1                   0     1        0      0          0          0  \n",
      "2                   0     1        0      0          0          0  \n",
      "3                   0     0        0      1          0          0  \n",
      "4                   0     1        0      0          0          0  \n"
     ]
    }
   ],
   "source": [
    "print(intervention_df.head())"
   ]
  },
  {
   "cell_type": "code",
   "execution_count": 14,
   "id": "2aeda8c8-de50-430f-b174-27e95ce9bc7d",
   "metadata": {},
   "outputs": [],
   "source": [
    "# Assuming 'intervention_df' contains the encoded interventions\n",
    "intervention_df.to_csv('encoded_interventions.csv', index=False)"
   ]
  },
  {
   "cell_type": "code",
   "execution_count": null,
   "id": "60f00491-1f5d-4d47-9064-2f4ee3e19b7a",
   "metadata": {},
   "outputs": [],
   "source": []
  }
 ],
 "metadata": {
  "kernelspec": {
   "display_name": "Python 3 (ipykernel)",
   "language": "python",
   "name": "python3"
  },
  "language_info": {
   "codemirror_mode": {
    "name": "ipython",
    "version": 3
   },
   "file_extension": ".py",
   "mimetype": "text/x-python",
   "name": "python",
   "nbconvert_exporter": "python",
   "pygments_lexer": "ipython3",
   "version": "3.11.5"
  }
 },
 "nbformat": 4,
 "nbformat_minor": 5
}
